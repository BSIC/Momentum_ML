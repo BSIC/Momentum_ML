{
 "cells": [
  {
   "cell_type": "markdown",
   "metadata": {},
   "source": [
    "# Imports"
   ]
  },
  {
   "cell_type": "code",
   "execution_count": 28,
   "metadata": {},
   "outputs": [],
   "source": [
    "# Importing required libraries\n",
    "\n",
    "from sklearn.model_selection import train_test_split, GridSearchCV, RepeatedStratifiedKFold, cross_val_score, RepeatedKFold, RandomizedSearchCV\n",
    "from sklearn.metrics import accuracy_score, recall_score, precision_score, f1_score, roc_auc_score, confusion_matrix, classification_report, make_scorer, balanced_accuracy_score\n",
    "from sklearn.base import BaseEstimator, TransformerMixin\n",
    "from sklearn.preprocessing import StandardScaler\n",
    "from sklearn.pipeline import Pipeline\n",
    "from sklearn.decomposition import PCA\n",
    "import numpy as np\n",
    "import pandas as pd\n",
    "import matplotlib.pyplot as plt\n",
    "from datetime import datetime"
   ]
  },
  {
   "cell_type": "code",
   "execution_count": 7,
   "metadata": {},
   "outputs": [],
   "source": [
    "reg_signals = pd.read_csv('data/indicators.csv', parse_dates=True, index_col='Date')\n",
    "poly_features = pd.read_csv('data/indicators_w_polyterms.csv', parse_dates=True, index_col='Date')\n",
    "labels = pd.read_csv('data/labels.csv', parse_dates=True, index_col='Date')"
   ]
  },
  {
   "cell_type": "code",
   "execution_count": 12,
   "metadata": {},
   "outputs": [
    {
     "data": {
      "application/vnd.microsoft.datawrangler.viewer.v0+json": {
       "columns": [
        {
         "name": "Date",
         "rawType": "datetime64[ns]",
         "type": "datetime"
        },
        {
         "name": "momentum_21d_zscore",
         "rawType": "float64",
         "type": "float"
        },
        {
         "name": "drawdown_21d_zscore",
         "rawType": "float64",
         "type": "float"
        },
        {
         "name": "momentum_42d_zscore",
         "rawType": "float64",
         "type": "float"
        },
        {
         "name": "drawdown_42d_zscore",
         "rawType": "float64",
         "type": "float"
        },
        {
         "name": "momentum_63d_zscore",
         "rawType": "float64",
         "type": "float"
        },
        {
         "name": "drawdown_63d_zscore",
         "rawType": "float64",
         "type": "float"
        },
        {
         "name": "momentum_126d_zscore",
         "rawType": "float64",
         "type": "float"
        },
        {
         "name": "drawdown_126d_zscore",
         "rawType": "float64",
         "type": "float"
        },
        {
         "name": "momentum_252d_zscore",
         "rawType": "float64",
         "type": "float"
        },
        {
         "name": "drawdown_252d_zscore",
         "rawType": "float64",
         "type": "float"
        }
       ],
       "conversionMethod": "pd.DataFrame",
       "ref": "212ee246-5f46-4b61-8533-9b5f0cdc2285",
       "rows": [
        [
         "2024-12-23 00:00:00",
         "-0.982925625708629",
         "-0.9635511523598256",
         "-0.8077948423019862",
         "-0.9684002737514996",
         "-0.8732077905289234",
         "-1.298510312696642",
         "-0.8465311434191716",
         "-0.2622671327280234",
         "-0.1837033439195335",
         "-0.4806921585369588"
        ],
        [
         "2024-12-24 00:00:00",
         "-0.5785299322837881",
         "-0.0041392010356472",
         "-0.3283200075713831",
         "0.1012333908091654",
         "-0.3948839916347126",
         "-0.0772305063672034",
         "-0.5228279202670609",
         "0.341702831146096",
         "0.0393726864368599",
         "0.2082630035251406"
        ],
        [
         "2024-12-26 00:00:00",
         "-0.6854212375951946",
         "-0.0131061171496274",
         "-0.3449425701760423",
         "0.059074091885014",
         "-0.5664185637853713",
         "-0.107556852008876",
         "-0.556425810882959",
         "0.323454649237867",
         "-0.0746258757832328",
         "0.1850810811965708"
        ],
        [
         "2024-12-27 00:00:00",
         "-1.3270899412075434",
         "-0.8917178409873556",
         "-1.0723900129826442",
         "-0.9844581307272968",
         "-0.9302156170096164",
         "-1.2976786003529337",
         "-0.7790853423582296",
         "-0.2799936854413882",
         "-0.3783403663189451",
         "-0.5069392740381166"
        ],
        [
         "2024-12-30 00:00:00",
         "-1.4591681306049331",
         "-1.594145227047153",
         "-1.643522595968347",
         "-1.8699035152336485",
         "-1.4504965447392044",
         "-2.321768035538421",
         "-1.2032101639039297",
         "-0.850992366606238",
         "-0.6427886390033796",
         "-1.16476031520201"
        ]
       ],
       "shape": {
        "columns": 10,
        "rows": 5
       }
      },
      "text/html": [
       "<div>\n",
       "<style scoped>\n",
       "    .dataframe tbody tr th:only-of-type {\n",
       "        vertical-align: middle;\n",
       "    }\n",
       "\n",
       "    .dataframe tbody tr th {\n",
       "        vertical-align: top;\n",
       "    }\n",
       "\n",
       "    .dataframe thead th {\n",
       "        text-align: right;\n",
       "    }\n",
       "</style>\n",
       "<table border=\"1\" class=\"dataframe\">\n",
       "  <thead>\n",
       "    <tr style=\"text-align: right;\">\n",
       "      <th></th>\n",
       "      <th>momentum_21d_zscore</th>\n",
       "      <th>drawdown_21d_zscore</th>\n",
       "      <th>momentum_42d_zscore</th>\n",
       "      <th>drawdown_42d_zscore</th>\n",
       "      <th>momentum_63d_zscore</th>\n",
       "      <th>drawdown_63d_zscore</th>\n",
       "      <th>momentum_126d_zscore</th>\n",
       "      <th>drawdown_126d_zscore</th>\n",
       "      <th>momentum_252d_zscore</th>\n",
       "      <th>drawdown_252d_zscore</th>\n",
       "    </tr>\n",
       "    <tr>\n",
       "      <th>Date</th>\n",
       "      <th></th>\n",
       "      <th></th>\n",
       "      <th></th>\n",
       "      <th></th>\n",
       "      <th></th>\n",
       "      <th></th>\n",
       "      <th></th>\n",
       "      <th></th>\n",
       "      <th></th>\n",
       "      <th></th>\n",
       "    </tr>\n",
       "  </thead>\n",
       "  <tbody>\n",
       "    <tr>\n",
       "      <th>2024-12-23</th>\n",
       "      <td>-0.982926</td>\n",
       "      <td>-0.963551</td>\n",
       "      <td>-0.807795</td>\n",
       "      <td>-0.968400</td>\n",
       "      <td>-0.873208</td>\n",
       "      <td>-1.298510</td>\n",
       "      <td>-0.846531</td>\n",
       "      <td>-0.262267</td>\n",
       "      <td>-0.183703</td>\n",
       "      <td>-0.480692</td>\n",
       "    </tr>\n",
       "    <tr>\n",
       "      <th>2024-12-24</th>\n",
       "      <td>-0.578530</td>\n",
       "      <td>-0.004139</td>\n",
       "      <td>-0.328320</td>\n",
       "      <td>0.101233</td>\n",
       "      <td>-0.394884</td>\n",
       "      <td>-0.077231</td>\n",
       "      <td>-0.522828</td>\n",
       "      <td>0.341703</td>\n",
       "      <td>0.039373</td>\n",
       "      <td>0.208263</td>\n",
       "    </tr>\n",
       "    <tr>\n",
       "      <th>2024-12-26</th>\n",
       "      <td>-0.685421</td>\n",
       "      <td>-0.013106</td>\n",
       "      <td>-0.344943</td>\n",
       "      <td>0.059074</td>\n",
       "      <td>-0.566419</td>\n",
       "      <td>-0.107557</td>\n",
       "      <td>-0.556426</td>\n",
       "      <td>0.323455</td>\n",
       "      <td>-0.074626</td>\n",
       "      <td>0.185081</td>\n",
       "    </tr>\n",
       "    <tr>\n",
       "      <th>2024-12-27</th>\n",
       "      <td>-1.327090</td>\n",
       "      <td>-0.891718</td>\n",
       "      <td>-1.072390</td>\n",
       "      <td>-0.984458</td>\n",
       "      <td>-0.930216</td>\n",
       "      <td>-1.297679</td>\n",
       "      <td>-0.779085</td>\n",
       "      <td>-0.279994</td>\n",
       "      <td>-0.378340</td>\n",
       "      <td>-0.506939</td>\n",
       "    </tr>\n",
       "    <tr>\n",
       "      <th>2024-12-30</th>\n",
       "      <td>-1.459168</td>\n",
       "      <td>-1.594145</td>\n",
       "      <td>-1.643523</td>\n",
       "      <td>-1.869904</td>\n",
       "      <td>-1.450497</td>\n",
       "      <td>-2.321768</td>\n",
       "      <td>-1.203210</td>\n",
       "      <td>-0.850992</td>\n",
       "      <td>-0.642789</td>\n",
       "      <td>-1.164760</td>\n",
       "    </tr>\n",
       "  </tbody>\n",
       "</table>\n",
       "</div>"
      ],
      "text/plain": [
       "            momentum_21d_zscore  drawdown_21d_zscore  momentum_42d_zscore  \\\n",
       "Date                                                                        \n",
       "2024-12-23            -0.982926            -0.963551            -0.807795   \n",
       "2024-12-24            -0.578530            -0.004139            -0.328320   \n",
       "2024-12-26            -0.685421            -0.013106            -0.344943   \n",
       "2024-12-27            -1.327090            -0.891718            -1.072390   \n",
       "2024-12-30            -1.459168            -1.594145            -1.643523   \n",
       "\n",
       "            drawdown_42d_zscore  momentum_63d_zscore  drawdown_63d_zscore  \\\n",
       "Date                                                                        \n",
       "2024-12-23            -0.968400            -0.873208            -1.298510   \n",
       "2024-12-24             0.101233            -0.394884            -0.077231   \n",
       "2024-12-26             0.059074            -0.566419            -0.107557   \n",
       "2024-12-27            -0.984458            -0.930216            -1.297679   \n",
       "2024-12-30            -1.869904            -1.450497            -2.321768   \n",
       "\n",
       "            momentum_126d_zscore  drawdown_126d_zscore  momentum_252d_zscore  \\\n",
       "Date                                                                           \n",
       "2024-12-23             -0.846531             -0.262267             -0.183703   \n",
       "2024-12-24             -0.522828              0.341703              0.039373   \n",
       "2024-12-26             -0.556426              0.323455             -0.074626   \n",
       "2024-12-27             -0.779085             -0.279994             -0.378340   \n",
       "2024-12-30             -1.203210             -0.850992             -0.642789   \n",
       "\n",
       "            drawdown_252d_zscore  \n",
       "Date                              \n",
       "2024-12-23             -0.480692  \n",
       "2024-12-24              0.208263  \n",
       "2024-12-26              0.185081  \n",
       "2024-12-27             -0.506939  \n",
       "2024-12-30             -1.164760  "
      ]
     },
     "execution_count": 12,
     "metadata": {},
     "output_type": "execute_result"
    }
   ],
   "source": [
    "reg_signals.tail()"
   ]
  },
  {
   "cell_type": "code",
   "execution_count": 19,
   "metadata": {},
   "outputs": [
    {
     "data": {
      "text/plain": [
       "Timestamp('1996-01-02 00:00:00')"
      ]
     },
     "execution_count": 19,
     "metadata": {},
     "output_type": "execute_result"
    }
   ],
   "source": [
    "(labels.index[0])"
   ]
  },
  {
   "cell_type": "code",
   "execution_count": 23,
   "metadata": {},
   "outputs": [
    {
     "data": {
      "text/plain": [
       "DatetimeIndex(['2000-01-03', '2000-01-04', '2000-01-05', '2000-01-06',\n",
       "               '2000-01-07', '2000-01-10', '2000-01-11', '2000-01-12',\n",
       "               '2000-01-13', '2000-01-14',\n",
       "               ...\n",
       "               '2024-12-02', '2024-12-03', '2024-12-04', '2024-12-05',\n",
       "               '2024-12-06', '2024-12-09', '2024-12-10', '2024-12-11',\n",
       "               '2024-12-12', '2024-12-13'],\n",
       "              dtype='datetime64[ns]', name='Date', length=6278, freq=None)"
      ]
     },
     "execution_count": 23,
     "metadata": {},
     "output_type": "execute_result"
    }
   ],
   "source": [
    "labels.index[labels.index >= '2000-01-01']"
   ]
  },
  {
   "cell_type": "markdown",
   "metadata": {},
   "source": [
    "# Model Preparation"
   ]
  },
  {
   "cell_type": "code",
   "execution_count": 32,
   "metadata": {},
   "outputs": [],
   "source": [
    "# Defining the period rolling window over which we train new models and how far back the training data goes\n",
    "\n",
    "window = 252\n",
    "lookback = 252*3\n",
    "\n",
    "# Creating a function to generate the training and testing data for the models, from 2000 onwards we create for every single year a train test split\n",
    "#  by using last 3 years as training data and the next year as testing data\n",
    "\n",
    "def generate_data(reg_signals, labels, window, lookback):\n",
    "    X = reg_signals\n",
    "    y = labels\n",
    "    X_train = []\n",
    "    X_test = []\n",
    "    y_train = []\n",
    "    y_test = []\n",
    "    for i in range(2000, 2025):\n",
    "        date = datetime.strptime(str(i) + '-01-01', '%Y-%m-%d')\n",
    "        X_train.append(X.loc[str(date - pd.DateOffset(days=lookback)):str(date - pd.DateOffset(days=window))])\n",
    "        X_test.append(X.loc[str(date - pd.DateOffset(days=window)):str(date)])\n",
    "        y_train.append(y.loc[str(date - pd.DateOffset(days=lookback)):str(date - pd.DateOffset(days=window))])\n",
    "        y_test.append(y.loc[str(date - pd.DateOffset(days=window)):str(date)])\n",
    "    return X_train, X_test, y_train, y_test\n"
   ]
  },
  {
   "cell_type": "code",
   "execution_count": null,
   "metadata": {},
   "outputs": [],
   "source": [
    "# Tuning function for one single pipeline for one single period\n",
    "\n",
    "def tune_model(X, y, params, pipeline, n_repeats=3, hyperparameter_tuner='grid', n_iter=None, verbose=1, sample_weights=None, probability=True):\n",
    "    cv = RepeatedStratifiedKFold(n_splits=5, n_repeats=n_repeats, random_state=42)\n",
    "    if probability:\n",
    "        scoring = {'auc': make_scorer(roc_auc_score, needs_proba=True, multi_class=\"ovr\"), 'f1_macro': 'f1_macro', 'precision': 'precision_macro', 'recall': 'recall_macro', 'balanced_accuracy': 'balanced_accuracy'}\n",
    "    else: \n",
    "        scoring = {'f1_macro': 'f1_macro', 'precision': 'precision_macro', 'recall': 'recall_macro', 'balanced_accuracy': 'balanced_accuracy'}\n",
    "    principal_metric = 'balanced_accuracy'\n",
    "\n",
    "    if hyperparameter_tuner == 'grid':\n",
    "        search = GridSearchCV(pipeline, params, cv=cv, scoring=scoring, refit=principal_metric, n_jobs=-1, verbose=verbose, error_score='raise')\n",
    "    elif hyperparameter_tuner == 'random':\n",
    "        search = RandomizedSearchCV(pipeline, params, cv=cv, scoring=scoring, refit=principal_metric, n_iter=n_iter, n_jobs=-1, verbose=verbose)\n",
    "    else:\n",
    "        raise ValueError(f\"Unknown hyperparameter tuner: {hyperparameter_tuner}\\n Choose from 'grid', 'random'\")\n",
    "    if sample_weights is not None:\n",
    "        kwargs = {pipeline.steps[-1][0] + '__sample_weight': sample_weights}\n",
    "        result = search.fit(X, y, **kwargs)\n",
    "    else:\n",
    "        result = search.fit(X, y)\n",
    "    best_model = result.best_estimator_\n",
    "\n",
    "    return result, best_model"
   ]
  }
 ],
 "metadata": {
  "kernelspec": {
   "display_name": "base",
   "language": "python",
   "name": "python3"
  },
  "language_info": {
   "codemirror_mode": {
    "name": "ipython",
    "version": 3
   },
   "file_extension": ".py",
   "mimetype": "text/x-python",
   "name": "python",
   "nbconvert_exporter": "python",
   "pygments_lexer": "ipython3",
   "version": "3.11.7"
  }
 },
 "nbformat": 4,
 "nbformat_minor": 2
}
