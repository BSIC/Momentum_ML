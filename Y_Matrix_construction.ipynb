{
 "cells": [
  {
   "metadata": {},
   "cell_type": "markdown",
   "source": "# Imports",
   "id": "1c3fe01eae0d7f9f"
  },
  {
   "cell_type": "code",
   "id": "initial_id",
   "metadata": {
    "collapsed": true,
    "ExecuteTime": {
     "end_time": "2025-02-09T20:17:38.794857Z",
     "start_time": "2025-02-09T20:17:38.788688Z"
    }
   },
   "source": "import pandas as pd",
   "outputs": [],
   "execution_count": 2
  },
  {
   "metadata": {},
   "cell_type": "markdown",
   "source": "# Load Dataset",
   "id": "9416eacb5b7e0b28"
  },
  {
   "metadata": {
    "ExecuteTime": {
     "end_time": "2025-02-09T20:19:35.976365Z",
     "start_time": "2025-02-09T20:19:35.933119Z"
    }
   },
   "cell_type": "code",
   "source": [
    "sp_data = pd.read_csv('s&p500_data.csv')\n",
    "sp_data.set_index(['Date'], inplace=True)"
   ],
   "id": "d2903a348fea446c",
   "outputs": [],
   "execution_count": 6
  },
  {
   "metadata": {},
   "cell_type": "markdown",
   "source": "# Construc Y Matrix",
   "id": "220cf78d5878d216"
  },
  {
   "metadata": {
    "ExecuteTime": {
     "end_time": "2025-02-09T20:22:29.406433Z",
     "start_time": "2025-02-09T20:22:29.389422Z"
    }
   },
   "cell_type": "code",
   "source": [
    "# Calculate the **daily returns**\n",
    "sp_data['daily returns'] = sp_data['Close'].pct_change()\n",
    "# Compute the **rolling standard deviation** of daily returns over 252 trading days\n",
    "sp_data['std'] = sp_data['daily returns'].rolling(252).std()\n",
    "\n",
    "# Calculate the **future 3-day returns**:\n",
    "sp_data['3 days returns'] = sp_data['Close'].pct_change(3).shift(-3)\n",
    "# Calculate the **future 5-day returns**:\n",
    "sp_data['5 days returns'] = sp_data['Close'].pct_change(5).shift(-5)\n",
    "# Calculate the **future 8-day returns**:\n",
    "sp_data['8 days returns'] = sp_data['Close'].pct_change(8).shift(-8)\n",
    "# Calculate the **future 10-day returns**:\n",
    "sp_data['10 days returns'] = sp_data['Close'].pct_change(10).shift(-10)\n",
    "\n",
    "# Remove any NaN (missing) values from the dataset.\n",
    "sp_data.dropna(inplace=True)"
   ],
   "id": "b3ca993b24d36a5a",
   "outputs": [],
   "execution_count": 8
  },
  {
   "metadata": {
    "ExecuteTime": {
     "end_time": "2025-02-09T20:22:30.791867Z",
     "start_time": "2025-02-09T20:22:30.784824Z"
    }
   },
   "cell_type": "code",
   "source": "sp_data.head()",
   "id": "fb1c49f82931a6ad",
   "outputs": [
    {
     "data": {
      "text/plain": [
       "                 Close  daily returns       std  3 days returns  \\\n",
       "Date                                                              \n",
       "1996-01-02  620.729980       0.007793  0.004934       -0.006476   \n",
       "1996-01-03  621.320007       0.000951  0.004932       -0.004603   \n",
       "1996-01-04  617.700012      -0.005826  0.004951       -0.013356   \n",
       "1996-01-05  616.710022      -0.001603  0.004954       -0.029560   \n",
       "1996-01-08  618.460022       0.002838  0.004954       -0.025499   \n",
       "\n",
       "            5 days returns  8 days returns  10 days returns  \n",
       "Date                                                         \n",
       "1996-01-02       -0.018172       -0.030480        -0.019799  \n",
       "1996-01-03       -0.036760       -0.034604        -0.024062  \n",
       "1996-01-04       -0.024300       -0.014991        -0.015315  \n",
       "1996-01-05       -0.024161       -0.016766        -0.007913  \n",
       "1996-01-08       -0.030139       -0.016525        -0.008182  "
      ],
      "text/html": [
       "<div>\n",
       "<style scoped>\n",
       "    .dataframe tbody tr th:only-of-type {\n",
       "        vertical-align: middle;\n",
       "    }\n",
       "\n",
       "    .dataframe tbody tr th {\n",
       "        vertical-align: top;\n",
       "    }\n",
       "\n",
       "    .dataframe thead th {\n",
       "        text-align: right;\n",
       "    }\n",
       "</style>\n",
       "<table border=\"1\" class=\"dataframe\">\n",
       "  <thead>\n",
       "    <tr style=\"text-align: right;\">\n",
       "      <th></th>\n",
       "      <th>Close</th>\n",
       "      <th>daily returns</th>\n",
       "      <th>std</th>\n",
       "      <th>3 days returns</th>\n",
       "      <th>5 days returns</th>\n",
       "      <th>8 days returns</th>\n",
       "      <th>10 days returns</th>\n",
       "    </tr>\n",
       "    <tr>\n",
       "      <th>Date</th>\n",
       "      <th></th>\n",
       "      <th></th>\n",
       "      <th></th>\n",
       "      <th></th>\n",
       "      <th></th>\n",
       "      <th></th>\n",
       "      <th></th>\n",
       "    </tr>\n",
       "  </thead>\n",
       "  <tbody>\n",
       "    <tr>\n",
       "      <th>1996-01-02</th>\n",
       "      <td>620.729980</td>\n",
       "      <td>0.007793</td>\n",
       "      <td>0.004934</td>\n",
       "      <td>-0.006476</td>\n",
       "      <td>-0.018172</td>\n",
       "      <td>-0.030480</td>\n",
       "      <td>-0.019799</td>\n",
       "    </tr>\n",
       "    <tr>\n",
       "      <th>1996-01-03</th>\n",
       "      <td>621.320007</td>\n",
       "      <td>0.000951</td>\n",
       "      <td>0.004932</td>\n",
       "      <td>-0.004603</td>\n",
       "      <td>-0.036760</td>\n",
       "      <td>-0.034604</td>\n",
       "      <td>-0.024062</td>\n",
       "    </tr>\n",
       "    <tr>\n",
       "      <th>1996-01-04</th>\n",
       "      <td>617.700012</td>\n",
       "      <td>-0.005826</td>\n",
       "      <td>0.004951</td>\n",
       "      <td>-0.013356</td>\n",
       "      <td>-0.024300</td>\n",
       "      <td>-0.014991</td>\n",
       "      <td>-0.015315</td>\n",
       "    </tr>\n",
       "    <tr>\n",
       "      <th>1996-01-05</th>\n",
       "      <td>616.710022</td>\n",
       "      <td>-0.001603</td>\n",
       "      <td>0.004954</td>\n",
       "      <td>-0.029560</td>\n",
       "      <td>-0.024161</td>\n",
       "      <td>-0.016766</td>\n",
       "      <td>-0.007913</td>\n",
       "    </tr>\n",
       "    <tr>\n",
       "      <th>1996-01-08</th>\n",
       "      <td>618.460022</td>\n",
       "      <td>0.002838</td>\n",
       "      <td>0.004954</td>\n",
       "      <td>-0.025499</td>\n",
       "      <td>-0.030139</td>\n",
       "      <td>-0.016525</td>\n",
       "      <td>-0.008182</td>\n",
       "    </tr>\n",
       "  </tbody>\n",
       "</table>\n",
       "</div>"
      ]
     },
     "execution_count": 9,
     "metadata": {},
     "output_type": "execute_result"
    }
   ],
   "execution_count": 9
  },
  {
   "metadata": {
    "ExecuteTime": {
     "end_time": "2025-02-09T20:17:38.856559Z",
     "start_time": "2025-02-09T20:17:38.850890Z"
    }
   },
   "cell_type": "code",
   "source": [
    "# Define long (buy) and short (sell) signals for a 3-day return horizon\n",
    "# - A long position (1) is taken if the n-day return is greater than or equal to the rolling standard deviation.\n",
    "# - A short position (1) is taken if the n-day return is less than or equal to the negative rolling standard deviation.\n",
    "# - Otherwise, values remain 0.\n",
    "\n",
    "y_3 = pd.DataFrame(index=sp_data.index)\n",
    "y_3['long'] = (sp_data['3 days returns'] >= sp_data['std']).astype(int)\n",
    "y_3['short'] = (sp_data['3 days returns'] <= -sp_data['std']).astype(int)\n",
    "\n",
    "y_5 = pd.DataFrame(index=sp_data.index)\n",
    "y_5['long'] = (sp_data['5 days returns'] >= sp_data['std']).astype(int)\n",
    "y_5['short'] = (sp_data['5 days returns'] <= -sp_data['std']).astype(int)\n",
    "\n",
    "y_8 = pd.DataFrame(index=sp_data.index)\n",
    "y_8['long'] = (sp_data['8 days returns'] >= sp_data['std']).astype(int)\n",
    "y_8['short'] = (sp_data['8 days returns'] <= -sp_data['std']).astype(int)\n",
    "\n",
    "y_10 = pd.DataFrame(index=sp_data.index)\n",
    "y_10['long'] = (sp_data['10 days returns'] >= sp_data['std']).astype(int)\n",
    "y_10['short'] = (sp_data['10 days returns'] <= -sp_data['std']).astype(int)"
   ],
   "id": "1577b6a74c4c31b6",
   "outputs": [],
   "execution_count": 5
  }
 ],
 "metadata": {
  "kernelspec": {
   "display_name": "Python 3",
   "language": "python",
   "name": "python3"
  },
  "language_info": {
   "codemirror_mode": {
    "name": "ipython",
    "version": 2
   },
   "file_extension": ".py",
   "mimetype": "text/x-python",
   "name": "python",
   "nbconvert_exporter": "python",
   "pygments_lexer": "ipython2",
   "version": "2.7.6"
  }
 },
 "nbformat": 4,
 "nbformat_minor": 5
}
